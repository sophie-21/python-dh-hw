{
 "cells": [
  {
   "cell_type": "markdown",
   "metadata": {},
   "source": [
    "# Задание 2"
   ]
  },
  {
   "cell_type": "code",
   "execution_count": 22,
   "metadata": {},
   "outputs": [
    {
     "name": "stdout",
     "output_type": "stream",
     "text": [
      "кот\n",
      "ток\n",
      "YES\n"
     ]
    }
   ],
   "source": [
    "def words(w1, w2):\n",
    "    if len(w1) != len(w2):\n",
    "        print(\"NO\")\n",
    "    for i in range(len(w1)):\n",
    "        if w1[i] != w2[len(w2)-i-1]:\n",
    "            print(\"NO\")\n",
    "    print(\"YES\")\n",
    "    \n",
    "w1 = input ()\n",
    "w2 = input ()\n",
    "words(w1, w2)\n",
    "\n"
   ]
  },
  {
   "cell_type": "code",
   "execution_count": 21,
   "metadata": {},
   "outputs": [
    {
     "name": "stdout",
     "output_type": "stream",
     "text": [
      "мама\n",
      "папа\n",
      "NO\n"
     ]
    }
   ],
   "source": [
    "w1 = input ()\n",
    "w2 = input ()\n",
    "words(w1, w2)"
   ]
  },
  {
   "cell_type": "code",
   "execution_count": null,
   "metadata": {
    "collapsed": true
   },
   "outputs": [],
   "source": []
  }
 ],
 "metadata": {
  "kernelspec": {
   "display_name": "Python 3",
   "language": "python",
   "name": "python3"
  },
  "language_info": {
   "codemirror_mode": {
    "name": "ipython",
    "version": 3
   },
   "file_extension": ".py",
   "mimetype": "text/x-python",
   "name": "python",
   "nbconvert_exporter": "python",
   "pygments_lexer": "ipython3",
   "version": "3.6.3"
  }
 },
 "nbformat": 4,
 "nbformat_minor": 2
}
